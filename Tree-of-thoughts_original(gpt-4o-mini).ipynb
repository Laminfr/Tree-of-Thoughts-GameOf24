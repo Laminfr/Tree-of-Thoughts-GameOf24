{
 "cells": [
  {
   "metadata": {},
   "cell_type": "markdown",
   "source": "### Tree of Thoughts",
   "id": "cad96e63d6bf1035"
  },
  {
   "metadata": {},
   "cell_type": "markdown",
   "source": [
    "> **Note:**\n",
    "> The code used in this notebook is adapted from the official LangGraph tutorial:\n",
    "> [https://langchain-ai.github.io/langgraph/tutorials/tot/tot/](https://langchain-ai.github.io/langgraph/tutorials/tot/tot/)\n",
    ">\n",
    "> It demonstrates an application of the **Tree of Thoughts** concept, originally introduced in the following research paper:\n",
    "> [Tree of Thoughts: Deliberate Problem Solving with Large Language Models (arXiv:2305.10601)](https://arxiv.org/abs/2305.10601)\n"
   ],
   "id": "77d1666620fe785d"
  },
  {
   "metadata": {
    "ExecuteTime": {
     "end_time": "2025-07-02T22:30:22.765763Z",
     "start_time": "2025-07-02T22:30:22.759509Z"
    }
   },
   "cell_type": "code",
   "source": [
    "# import os, getpass\n",
    "# def _set_env(var: str):\n",
    "#     if not os.environ.get(var):\n",
    "#         os.environ[var] = getpass.getpass(f\"{var}: \")\n",
    "#\n",
    "# _set_env(\"OPENAI_API_KEY\")"
   ],
   "id": "initial_id",
   "outputs": [],
   "execution_count": 1
  },
  {
   "metadata": {
    "ExecuteTime": {
     "end_time": "2025-07-02T22:30:22.837397Z",
     "start_time": "2025-07-02T22:30:22.816082Z"
    }
   },
   "cell_type": "code",
   "source": [
    "from dotenv import load_dotenv\n",
    "load_dotenv()"
   ],
   "id": "1cc972a8f7b68dc9",
   "outputs": [
    {
     "data": {
      "text/plain": [
       "True"
      ]
     },
     "execution_count": 2,
     "metadata": {},
     "output_type": "execute_result"
    }
   ],
   "execution_count": 2
  },
  {
   "metadata": {},
   "cell_type": "markdown",
   "source": [
    "## Task Definition\n",
    "\n",
    "Our agent will try to play the **\"Game of 24\"**. Given 4 numbers, it must generate a math equation that uses each of these numbers exactly one time to evaluate to a value of 24.\n"
   ],
   "id": "cfe1891507ff09a5"
  },
  {
   "metadata": {
    "ExecuteTime": {
     "end_time": "2025-07-02T22:30:23.317237Z",
     "start_time": "2025-07-02T22:30:22.959030Z"
    }
   },
   "cell_type": "code",
   "source": [
    "import operator\n",
    "from typing import List, Literal, Union, NamedTuple, Optional\n",
    "from pydantic import BaseModel, Field\n",
    "\n",
    "OperatorType = Literal[\"+\", \"-\", \"*\", \"/\"]\n",
    "TokenType = Union[float, OperatorType]\n",
    "\n",
    "## We use these schemas to prompt the LLM to generate equations that evaluate to 24.\n",
    "\n",
    "\n",
    "class Equation(BaseModel):\n",
    "    \"\"\"The formula combining the provided numbers to reach the target of 24.\"\"\"\n",
    "\n",
    "    tokens: List[TokenType] = Field(\n",
    "        description=\"The stack of tokens and operators in reverse-polish notation. Example: [3, 4, '+', -1, '*'] would evaluate to (3 + 4) * -1 = -7.\",\n",
    "    )\n",
    "\n",
    "    def compute(self) -> float:\n",
    "        op_funcs = {\n",
    "            \"+\": operator.add,\n",
    "            \"-\": operator.sub,\n",
    "            \"*\": operator.mul,\n",
    "            \"/\": operator.truediv,\n",
    "        }\n",
    "        stack = []\n",
    "        for token in self.tokens:\n",
    "            if isinstance(token, float):\n",
    "                stack.append(token)\n",
    "            else:\n",
    "                b, a = stack.pop(), stack.pop()\n",
    "                stack.append(op_funcs[token](a, b))\n",
    "\n",
    "        return stack[0]\n",
    "\n",
    "\n",
    "class GuessEquations(BaseModel):\n",
    "    \"\"\"Submit multiple equations as guesses.\"\"\"\n",
    "\n",
    "    reasoning: str = Field(\n",
    "        description=\"The reasoning behind the submitted guesses. Explain how you arrived at these equations.\"\n",
    "    )\n",
    "\n",
    "    equations: List[Equation] = Field(\n",
    "        description=\"The list of equations to submit as guesses.\"\n",
    "    )\n",
    "\n",
    "\n",
    "## These objects will represent a single \"candidate\" (or scored candidate) within our agent's state.\n",
    "# You can update the candidate object to match your own task.\n",
    "\n",
    "\n",
    "class Candidate(NamedTuple):\n",
    "    candidate: Equation\n",
    "    score: Optional[float] = None\n",
    "    feedback: Optional[str] = None\n",
    "\n",
    "    def __str__(self):\n",
    "        try:\n",
    "            computed = self.candidate.compute()\n",
    "        except Exception as e:\n",
    "            computed = f\"Invalid equation: {self.candidate.tokens}; Error: {repr(e)}\"\n",
    "\n",
    "        return f\"Equation({self.candidate.tokens}) = {computed} (Reward: {self.score})\"\n",
    "\n",
    "\n",
    "class ScoredCandidate(Candidate):\n",
    "    candidate: Equation\n",
    "    score: float\n",
    "    feedback: str"
   ],
   "id": "802981e89d21474a",
   "outputs": [],
   "execution_count": 3
  },
  {
   "metadata": {},
   "cell_type": "markdown",
   "source": [
    "## Fetch Data\n",
    "\n",
    "We'll use an example from the Game of 24 dataset.\n"
   ],
   "id": "1f59508592ca7764"
  },
  {
   "metadata": {
    "ExecuteTime": {
     "end_time": "2025-07-02T22:30:24.174677Z",
     "start_time": "2025-07-02T22:30:23.354221Z"
    }
   },
   "cell_type": "code",
   "source": [
    "import requests\n",
    "import csv\n",
    "\n",
    "csv_data = requests.get(\n",
    "    \"https://storage.googleapis.com/benchmarks-artifacts/game-of-24/24.csv\"\n",
    ").content.decode(\"utf-8\")\n",
    "# Get just the Puzzles column (column index 1)\n",
    "puzzles = [row[1].strip() for row in csv.reader(csv_data.splitlines()[1:])]\n",
    "\n",
    "print(f\"Example puzzles: {puzzles[:3]}\")"
   ],
   "id": "bd5c1874e01a25d4",
   "outputs": [
    {
     "name": "stdout",
     "output_type": "stream",
     "text": [
      "Example puzzles: ['1 1 4 6', '1 1 11 11', '1 1 3 8']\n"
     ]
    }
   ],
   "execution_count": 4
  },
  {
   "metadata": {},
   "cell_type": "markdown",
   "source": [
    "## Expander\n",
    "\n",
    "The \"tree of thoughts\" algorithm is relatively generic. The primary two task-specific components are the **expander** and the **scorer**. The **expander** (the augmented LLM) tries to generate 1 or more solutions to the problem. On subsequent attempts, it is given a seed/candidate value from the previous search.\n",
    "\n",
    "You can update this section to match your own task requirements. The expander can be arbitrarily complex. All that's required is that it accepts the problem and an optional previous attempt (or attempts) and returns a new result.\n"
   ],
   "id": "ede1a1972d66c8c0"
  },
  {
   "metadata": {
    "ExecuteTime": {
     "end_time": "2025-07-02T22:30:27.511023Z",
     "start_time": "2025-07-02T22:30:24.208554Z"
    }
   },
   "cell_type": "code",
   "source": [
    "from langchain_core.prompts import ChatPromptTemplate\n",
    "from langchain_openai import ChatOpenAI\n",
    "\n",
    "prompt = ChatPromptTemplate.from_messages(\n",
    "    [\n",
    "        (\n",
    "            \"system\",\n",
    "            \"You are playing the Game of 24. Using the provide numbers, create an equation that evaluates to 24.\\n\"\n",
    "            \"Submit exactly {k} guesses for this round.\",\n",
    "        ),\n",
    "        (\"user\", \"Solve the 24 game for these numbers: {problem}.{candidate}\"),\n",
    "    ],\n",
    ").partial(candidate=\"\")\n",
    "llm = ChatOpenAI(model=\"gpt-4o-mini\")\n",
    "\n",
    "bound_llm = llm.with_structured_output(GuessEquations)\n",
    "solver = prompt | bound_llm"
   ],
   "id": "11bbe3df1240e7c9",
   "outputs": [],
   "execution_count": 5
  },
  {
   "metadata": {},
   "cell_type": "markdown",
   "source": [
    "## Scorer\n",
    "\n",
    "In this game, the scorer is easy. We need to assert two things:\n",
    "\n",
    "1. The LLM has generated a valid equation using each number exactly one time.\n",
    "2. The equation evaluates to 24.\n",
    "\n",
    "You can update this function to match your own task requirements.\n"
   ],
   "id": "264822f6c666b9c6"
  },
  {
   "metadata": {
    "ExecuteTime": {
     "end_time": "2025-07-02T22:30:27.540434Z",
     "start_time": "2025-07-02T22:30:27.532692Z"
    }
   },
   "cell_type": "code",
   "source": [
    "def compute_score(problem: str, candidate: Candidate) -> ScoredCandidate:\n",
    "    numbers = list(map(int, problem.split()))\n",
    "    # Check that the candidate equation uses all 4 numbers exactly once\n",
    "    used_numbers = [\n",
    "        token for token in candidate.candidate.tokens if isinstance(token, float)\n",
    "    ]\n",
    "    if sorted(used_numbers) != sorted(numbers):\n",
    "        score = 0\n",
    "        feedback = \"The equation must use all 4 numbers exactly once.\"\n",
    "        return ScoredCandidate(\n",
    "            candidate=candidate.candidate, score=score, feedback=feedback\n",
    "        )\n",
    "    try:\n",
    "        result = candidate.candidate.compute()\n",
    "        score = 1 / (1 + abs(24 - result))\n",
    "        feedback = f\"Result: {result}\"\n",
    "    except Exception as e:\n",
    "        score = 0\n",
    "        feedback = f\"Invalid equation. Error: {repr(e)}\"\n",
    "    return ScoredCandidate(\n",
    "        candidate=candidate.candidate, score=score, feedback=feedback\n",
    "    )"
   ],
   "id": "599595a6261e62",
   "outputs": [],
   "execution_count": 6
  },
  {
   "metadata": {},
   "cell_type": "markdown",
   "source": [
    "## Graph\n",
    "it's time to create our graph."
   ],
   "id": "616a53b5edd9078e"
  },
  {
   "metadata": {
    "ExecuteTime": {
     "end_time": "2025-07-02T22:30:27.804573Z",
     "start_time": "2025-07-02T22:30:27.621417Z"
    }
   },
   "cell_type": "code",
   "source": [
    "import operator\n",
    "from typing import Optional, Dict, Any\n",
    "from typing_extensions import Annotated, TypedDict\n",
    "from langgraph.graph import StateGraph\n",
    "\n",
    "from langchain_core.runnables import RunnableConfig\n",
    "from langgraph.constants import Send\n",
    "from langgraph.checkpoint.memory import MemorySaver\n",
    "\n",
    "\n",
    "def update_candidates(\n",
    "    existing: Optional[list] = None,\n",
    "    updates: Optional[Union[list, Literal[\"clear\"]]] = None,\n",
    ") -> List[str]:\n",
    "    if existing is None:\n",
    "        existing = []\n",
    "    if updates is None:\n",
    "        return existing\n",
    "    if updates == \"clear\":\n",
    "        return []\n",
    "    # Concatenate the lists\n",
    "    return existing + updates\n",
    "\n",
    "\n",
    "class ToTState(TypedDict):\n",
    "    problem: str\n",
    "    candidates: Annotated[List[Candidate], update_candidates]\n",
    "    scored_candidates: Annotated[List[ScoredCandidate], update_candidates]\n",
    "    depth: Annotated[int, operator.add]\n",
    "\n",
    "\n",
    "class Configuration(TypedDict, total=False):\n",
    "    max_depth: int\n",
    "    threshold: float\n",
    "    k: int\n",
    "    beam_size: int\n",
    "\n",
    "\n",
    "def _ensure_configurable(config: RunnableConfig) -> Configuration:\n",
    "    \"\"\"Get params that configure the search algorithm.\"\"\"\n",
    "    configurable = config.get(\"configurable\", {})\n",
    "    return {\n",
    "        **configurable,\n",
    "        \"max_depth\": configurable.get(\"max_depth\", 10),\n",
    "        \"threshold\": config.get(\"threshold\", 0.9),\n",
    "        \"k\": configurable.get(\"k\", 5),\n",
    "        \"beam_size\": configurable.get(\"beam_size\", 3),\n",
    "    }\n",
    "\n",
    "\n",
    "class ExpansionState(ToTState):\n",
    "    seed: Optional[Candidate]\n",
    "\n",
    "\n",
    "def expand(state: ExpansionState, *, config: RunnableConfig) -> Dict[str, List[str]]:\n",
    "    \"\"\"Generate the next state.\"\"\"\n",
    "    configurable = _ensure_configurable(config)\n",
    "    if not state.get(\"seed\"):\n",
    "        candidate_str = \"\"\n",
    "\n",
    "    else:\n",
    "        candidate_str = \"\\n\\n\" + str(state[\"seed\"])\n",
    "\n",
    "    try:\n",
    "        equation_submission = solver.invoke(\n",
    "            {\n",
    "                \"problem\": state[\"problem\"],\n",
    "                \"candidate\": candidate_str,\n",
    "                \"k\": configurable[\"k\"],\n",
    "            },\n",
    "            config=config,\n",
    "        )\n",
    "    except Exception:\n",
    "        return {\"candidates\": []}\n",
    "    new_candidates = [\n",
    "        Candidate(candidate=equation) for equation in equation_submission.equations\n",
    "    ]\n",
    "    return {\"candidates\": new_candidates}\n",
    "\n",
    "\n",
    "def score(state: ToTState) -> Dict[str, List[float]]:\n",
    "    \"\"\"Evaluate the candidate generations.\"\"\"\n",
    "    candidates = state[\"candidates\"]\n",
    "    scored = []\n",
    "    for candidate in candidates:\n",
    "        scored.append(compute_score(state[\"problem\"], candidate))\n",
    "    return {\"scored_candidates\": scored, \"candidates\": \"clear\"}\n",
    "\n",
    "\n",
    "def prune(\n",
    "    state: ToTState, *, config: RunnableConfig\n",
    ") -> Dict[str, List[Dict[str, Any]]]:\n",
    "    scored_candidates = state[\"scored_candidates\"]\n",
    "    beam_size = _ensure_configurable(config)[\"beam_size\"]\n",
    "    organized = sorted(\n",
    "        scored_candidates, key=lambda candidate: candidate[1], reverse=True\n",
    "    )\n",
    "    pruned = organized[:beam_size]\n",
    "    return {\n",
    "        # Update the starting point for the next iteration\n",
    "        \"candidates\": pruned,\n",
    "        # Clear the old memory\n",
    "        \"scored_candidates\": \"clear\",\n",
    "        # Increment the depth by 1\n",
    "        \"depth\": 1,\n",
    "    }\n",
    "\n",
    "\n",
    "def should_terminate(\n",
    "    state: ToTState, config: RunnableConfig\n",
    ") -> Union[Literal[\"__end__\"], Send]:\n",
    "    configurable = _ensure_configurable(config)\n",
    "    solved = state[\"candidates\"][0].score >= configurable[\"threshold\"]\n",
    "    if solved or state[\"depth\"] >= configurable[\"max_depth\"]:\n",
    "        return \"__end__\"\n",
    "    return [\n",
    "        Send(\"expand\", {**state, \"somevalseed\": candidate})\n",
    "        for candidate in state[\"candidates\"]\n",
    "    ]\n",
    "\n",
    "\n",
    "# Create the graph\n",
    "builder = StateGraph(state_schema=ToTState, config_schema=Configuration)\n",
    "\n",
    "# Add nodes\n",
    "builder.add_node(expand)\n",
    "builder.add_node(score)\n",
    "builder.add_node(prune)\n",
    "\n",
    "# Add edges\n",
    "builder.add_edge(\"expand\", \"score\")\n",
    "builder.add_edge(\"score\", \"prune\")\n",
    "builder.add_conditional_edges(\"prune\", should_terminate, path_map=[\"expand\", \"__end__\"])\n",
    "\n",
    "# Set entry point\n",
    "builder.add_edge(\"__start__\", \"expand\")\n",
    "\n",
    "# Compile the graph\n",
    "graph = builder.compile(checkpointer=MemorySaver())"
   ],
   "id": "4c94faccd6d81e72",
   "outputs": [],
   "execution_count": 7
  },
  {
   "metadata": {
    "ExecuteTime": {
     "end_time": "2025-07-02T22:30:28.541387Z",
     "start_time": "2025-07-02T22:30:27.828221Z"
    }
   },
   "cell_type": "code",
   "source": [
    "from IPython.display import Image, display\n",
    "\n",
    "display(Image(graph.get_graph().draw_mermaid_png()))"
   ],
   "id": "709f28991b3487d5",
   "outputs": [
    {
     "data": {
      "image/png": "[encoded data removed]",
      "text/plain": [
       "<IPython.core.display.Image object>"
      ]
     },
     "metadata": {},
     "output_type": "display_data"
    }
   ],
   "execution_count": 8
  },
  {
   "metadata": {},
   "cell_type": "markdown",
   "source": [
    "## Run\n",
    "Now let's try it on one of the puzzles!"
   ],
   "id": "984f319e4674efe6"
  },
  {
   "metadata": {
    "ExecuteTime": {
     "end_time": "2025-07-02T22:33:09.911786Z",
     "start_time": "2025-07-02T22:33:06.990189Z"
    }
   },
   "cell_type": "code",
   "source": [
    "config = {\n",
    "    \"configurable\": {\n",
    "        \"thread_id\": \"test_1\",\n",
    "        \"depth\": 10,\n",
    "    }\n",
    "}\n",
    "for step in graph.stream({\"problem\": puzzles[42]}, config):\n",
    "    print(step)"
   ],
   "id": "289b835e7b2d54d7",
   "outputs": [
    {
     "name": "stdout",
     "output_type": "stream",
     "text": [
      "{'expand': {'candidates': [Candidate(candidate=Equation(tokens=[12.0, 7.0, '*', 5.0, '-', 1.0, '+']), score=None, feedback=None), Candidate(candidate=Equation(tokens=[12.0, 5.0, '*', 7.0, '-', 1.0, '+']), score=None, feedback=None), Candidate(candidate=Equation(tokens=[5.0, 7.0, '*', 1.0, '+', 12.0, '-']), score=None, feedback=None), Candidate(candidate=Equation(tokens=[12.0, 1.0, '-', 5.0, '*', 7.0, '+']), score=None, feedback=None), Candidate(candidate=Equation(tokens=[7.0, 5.0, '*', 1.0, '+', 12.0, '-']), score=None, feedback=None)]}}\n",
      "{'score': {'scored_candidates': [ScoredCandidate(candidate=Equation(tokens=[7.0, 5.0, '+', 12.0, '+', 1.0, '-']), score=0.5, feedback='Result: 23.0'), ScoredCandidate(candidate=Equation(tokens=[12.0, 1.0, '/', 7.0, '+', 5.0]), score=0.16666666666666666, feedback='Result: 19.0'), ScoredCandidate(candidate=Equation(tokens=[1.0, 12.0, '*', 5.0, '-', 7.0, '+']), score=0.09090909090909091, feedback='Result: 14.0'), ScoredCandidate(candidate=Equation(tokens=[12.0, 7.0, '*', 5.0, '-', 1.0, '+']), score=0.017543859649122806, feedback='Result: 80.0'), ScoredCandidate(candidate=Equation(tokens=[12.0, 5.0, '*', 7.0, '-', 1.0, '+']), score=0.03225806451612903, feedback='Result: 54.0'), ScoredCandidate(candidate=Equation(tokens=[5.0, 7.0, '*', 1.0, '+', 12.0, '-']), score=1.0, feedback='Result: 24.0'), ScoredCandidate(candidate=Equation(tokens=[12.0, 1.0, '-', 5.0, '*', 7.0, '+']), score=0.02564102564102564, feedback='Result: 62.0'), ScoredCandidate(candidate=Equation(tokens=[7.0, 5.0, '*', 1.0, '+', 12.0, '-']), score=1.0, feedback='Result: 24.0')], 'candidates': 'clear'}}\n",
      "{'prune': {'candidates': [ScoredCandidate(candidate=Equation(tokens=[5.0, 7.0, '*', 1.0, '+', 12.0, '-']), score=1.0, feedback='Result: 24.0'), ScoredCandidate(candidate=Equation(tokens=[7.0, 5.0, '*', 1.0, '+', 12.0, '-']), score=1.0, feedback='Result: 24.0'), ScoredCandidate(candidate=Equation(tokens=[7.0, 5.0, '+', 12.0, '+', 1.0, '-']), score=0.5, feedback='Result: 23.0')], 'scored_candidates': 'clear', 'depth': 1}}\n"
     ]
    }
   ],
   "execution_count": 16
  },
  {
   "metadata": {
    "ExecuteTime": {
     "end_time": "2025-07-02T22:33:12.668509Z",
     "start_time": "2025-07-02T22:33:12.661512Z"
    }
   },
   "cell_type": "code",
   "source": [
    "final_state = graph.get_state(config)\n",
    "winning_solution = final_state.values[\"candidates\"][0]\n",
    "search_depth = final_state.values[\"depth\"]\n",
    "if winning_solution[1] == 1:\n",
    "    print(f\"Found a winning solution in {search_depth} steps: {winning_solution}\")\n",
    "else:\n",
    "    print(\n",
    "        f\"Failed to find a winning solution in {search_depth} steps. Best guess: {winning_solution}\"\n",
    "    )"
   ],
   "id": "eae14e00d3961138",
   "outputs": [
    {
     "name": "stdout",
     "output_type": "stream",
     "text": [
      "Found a winning solution in 11 steps: Equation([5.0, 7.0, '*', 1.0, '+', 12.0, '-']) = 24.0 (Reward: 1.0)\n"
     ]
    }
   ],
   "execution_count": 17
  },
  {
   "metadata": {},
   "cell_type": "markdown",
   "source": [
    "## Evaluation\n",
    "Now let's create an evaluation function"
   ],
   "id": "f2fce5a5fbfdf00d"
  },
  {
   "metadata": {
    "ExecuteTime": {
     "end_time": "2025-07-02T22:33:19.693242Z",
     "start_time": "2025-07-02T22:33:19.680262Z"
    }
   },
   "cell_type": "code",
   "source": [
    "from typing import List, Dict, Any\n",
    "import statistics\n",
    "\n",
    "def evaluate_tot_llm_performance(results: List[Dict[str, Any]]) -> Dict[str, Any]:\n",
    "    \"\"\"\n",
    "    Evaluate LLM performance in Tree of Thoughts runs.\n",
    "\n",
    "    Parameters:\n",
    "        results: A list of dictionaries, each representing the final state from a ToT run.\n",
    "            Each dict should contain:\n",
    "                - \"solved\": bool\n",
    "                - \"depth\": int\n",
    "                - \"best_score\": float\n",
    "                - \"equation\": Equation object or string\n",
    "\n",
    "    Returns:\n",
    "        A summary dictionary with aggregate statistics.\n",
    "    \"\"\"\n",
    "    num_trials = len(results)\n",
    "    num_solved = sum(1 for r in results if r[\"solved\"])\n",
    "    avg_depth = statistics.mean(r[\"depth\"] for r in results)\n",
    "    avg_score = statistics.mean(r[\"best_score\"] for r in results)\n",
    "    max_score = max(r[\"best_score\"] for r in results)\n",
    "\n",
    "    solved_equations = [r[\"equation\"] for r in results if r[\"solved\"]]\n",
    "\n",
    "    return {\n",
    "        \"total_problems\": num_trials,\n",
    "        \"solved_problems\": num_solved,\n",
    "        \"accuracy\": num_solved / num_trials,\n",
    "        \"average_depth\": round(avg_depth, 2),\n",
    "        \"average_best_score\": round(avg_score, 3),\n",
    "        \"highest_score\": round(max_score, 3),\n",
    "        \"solved_equations\": solved_equations,\n",
    "    }"
   ],
   "id": "746b8719a3e1b349",
   "outputs": [],
   "execution_count": 18
  },
  {
   "metadata": {},
   "cell_type": "markdown",
   "source": [
    "## Gather results from multiple runs\n",
    "Now let's run the ToT on many problem and extract results"
   ],
   "id": "37b18a528e5161c"
  },
  {
   "metadata": {
    "ExecuteTime": {
     "end_time": "2025-07-02T22:38:48.538868Z",
     "start_time": "2025-07-02T22:33:27.702682Z"
    }
   },
   "cell_type": "code",
   "source": [
    "def run_tot_on_problem(problem: str, graph, config) -> Dict[str, Any]:\n",
    "    \"\"\"\n",
    "    Run Tree of Thoughts on a single Game of 24 problem and extract evaluation-relevant metrics.\n",
    "\n",
    "    Parameters:\n",
    "        problem: A string like \"3 4 6 1\"\n",
    "        graph: Compiled LangGraph object\n",
    "        config: Dict passed to LangGraph nodes\n",
    "\n",
    "    Returns:\n",
    "        A dictionary compatible with evaluation function:\n",
    "        {\n",
    "            \"solved\": bool,\n",
    "            \"depth\": int,\n",
    "            \"best_score\": float,\n",
    "            \"equation\": str\n",
    "        }\n",
    "    \"\"\"\n",
    "    state_input = {\"problem\": problem}\n",
    "\n",
    "    # Run the graph (stream can be skipped if not needed)\n",
    "    for _ in graph.stream(state_input, config):\n",
    "        pass  # progress through the full search\n",
    "\n",
    "    # Get final state\n",
    "    final_state = graph.get_state(config).values\n",
    "    depth = final_state[\"depth\"]\n",
    "    candidates = final_state[\"candidates\"]\n",
    "\n",
    "    # Select best-scoring candidate\n",
    "    best = max(candidates, key=lambda c: c.score)\n",
    "\n",
    "    return {\n",
    "        \"solved\": best.score >= config[\"configurable\"].get(\"threshold\", 0.9),\n",
    "        \"depth\": depth,\n",
    "        \"best_score\": best.score,\n",
    "        \"equation\": str(best.candidate.tokens),\n",
    "        \"feedback\": best.feedback\n",
    "    }\n",
    "\n",
    "\n",
    "def run_tot_on_many_problems(puzzles: List[str], graph, limit: int = 10) -> List[Dict[str, Any]]:\n",
    "    config = {\n",
    "        \"configurable\": {\n",
    "            \"thread_id\": \"eval_batch\",\n",
    "            \"depth\": 10,\n",
    "            \"threshold\": 0.99,  # stricter match for Game of 24\n",
    "            \"k\": 5,\n",
    "            \"beam_size\": 3,\n",
    "        }\n",
    "    }\n",
    "\n",
    "    results = []\n",
    "    for i, puzzle in enumerate(puzzles[:limit]):\n",
    "        print(f\"Running puzzle {i + 1}: {puzzle}\")\n",
    "        try:\n",
    "            result = run_tot_on_problem(puzzle, graph, config)\n",
    "            results.append(result)\n",
    "        except Exception as e:\n",
    "            print(f\"Error on puzzle {i + 1}: {repr(e)}\")\n",
    "            results.append({\n",
    "                \"solved\": False,\n",
    "                \"depth\": -1,\n",
    "                \"best_score\": 0,\n",
    "                \"equation\": \"ERROR\",\n",
    "                \"feedback\": str(e),\n",
    "            })\n",
    "    return results\n",
    "\n",
    "results = run_tot_on_many_problems(puzzles=puzzles[1:101], graph = graph, limit = 150)\n"
   ],
   "id": "da43c7893a185ced",
   "outputs": [
    {
     "name": "stdout",
     "output_type": "stream",
     "text": [
      "Running puzzle 1: 1 1 11 11\n",
      "Error on puzzle 1: GraphRecursionError('Recursion limit of 25 reached without hitting a stop condition. You can increase the limit by setting the `recursion_limit` config key.\\nFor troubleshooting, visit: https://python.langchain.com/docs/troubleshooting/errors/GRAPH_RECURSION_LIMIT')\n",
      "Running puzzle 2: 1 1 3 8\n",
      "Running puzzle 3: 1 1 1 8\n",
      "Running puzzle 4: 6 6 6 6\n",
      "Running puzzle 5: 1 1 2 12\n",
      "Running puzzle 6: 1 2 2 6\n",
      "Running puzzle 7: 1 1 10 12\n",
      "Running puzzle 8: 2 2 10 10\n",
      "Running puzzle 9: 1 1 1 12\n",
      "Running puzzle 10: 1 1 2 8\n",
      "Running puzzle 11: 1 1 4 8\n",
      "Running puzzle 12: 1 1 5 8\n",
      "Running puzzle 13: 4 6 11 11\n",
      "Running puzzle 14: 1 1 3 12\n",
      "Running puzzle 15: 2 2 2 12\n",
      "Running puzzle 16: 1 1 4 12\n",
      "Running puzzle 17: 1 1 12 12\n",
      "Running puzzle 18: 3 3 3 8\n",
      "Running puzzle 19: 1 1 2 6\n",
      "Running puzzle 20: 1 1 2 11\n",
      "Running puzzle 21: 1 2 3 4\n",
      "Running puzzle 22: 11 11 12 12\n",
      "Running puzzle 23: 3 7 7 8\n",
      "Running puzzle 24: 1 1 13 13\n",
      "Running puzzle 25: 1 2 4 12\n",
      "Running puzzle 26: 1 1 3 6\n",
      "Running puzzle 27: 1 1 3 9\n",
      "Running puzzle 28: 7 7 12 12\n",
      "Running puzzle 29: 4 6 7 7\n",
      "Running puzzle 30: 1 1 2 13\n",
      "Running puzzle 31: 1 1 5 6\n",
      "Running puzzle 32: 1 1 11 13\n",
      "Running puzzle 33: 1 6 6 12\n",
      "Running puzzle 34: 4 5 12 12\n",
      "Running puzzle 35: 4 6 13 13\n",
      "Running puzzle 36: 12 12 12 12\n",
      "Running puzzle 37: 2 11 11 12\n",
      "Running puzzle 38: 4 4 4 6\n",
      "Running puzzle 39: 1 1 1 11\n",
      "Running puzzle 40: 1 1 11 12\n",
      "Running puzzle 41: 2 7 7 12\n",
      "Running puzzle 42: 1 5 7 12\n",
      "Running puzzle 43: 10 10 12 12\n",
      "Running puzzle 44: 1 8 8 8\n",
      "Running puzzle 45: 2 2 3 8\n",
      "Running puzzle 46: 2 9 9 12\n",
      "Running puzzle 47: 11 11 11 12\n",
      "Running puzzle 48: 3 8 13 13\n",
      "Running puzzle 49: 9 9 12 12\n",
      "Running puzzle 50: 1 1 5 5\n",
      "Running puzzle 51: 3 3 12 12\n",
      "Running puzzle 52: 1 1 4 5\n",
      "Running puzzle 53: 1 6 8 12\n",
      "Running puzzle 54: 8 8 12 12\n",
      "Running puzzle 55: 3 8 11 11\n",
      "Running puzzle 56: 5 6 12 12\n",
      "Running puzzle 57: 11 12 12 12\n",
      "Running puzzle 58: 12 12 13 13\n",
      "Running puzzle 59: 1 1 12 13\n",
      "Running puzzle 60: 1 3 5 12\n",
      "Running puzzle 61: 5 5 12 12\n",
      "Running puzzle 62: 1 9 9 12\n",
      "Running puzzle 63: 2 3 3 12\n",
      "Running puzzle 64: 3 4 4 8\n",
      "Running puzzle 65: 3 8 10 10\n",
      "Running puzzle 66: 3 8 9 9\n",
      "Running puzzle 67: 2 5 5 12\n",
      "Running puzzle 68: 11 11 11 13\n",
      "Running puzzle 69: 2 12 13 13\n",
      "Running puzzle 70: 7 7 11 12\n",
      "Running puzzle 71: 1 1 3 7\n",
      "Running puzzle 72: 1 4 10 10\n",
      "Running puzzle 73: 4 4 12 12\n",
      "Running puzzle 74: 1 3 4 12\n",
      "Running puzzle 75: 5 5 11 12\n",
      "Running puzzle 76: 1 2 5 8\n",
      "Running puzzle 77: 2 2 4 6\n",
      "Running puzzle 78: 1 6 7 12\n",
      "Running puzzle 79: 1 8 9 12\n",
      "Running puzzle 80: 6 7 12 12\n",
      "Running puzzle 81: 1 3 10 10\n",
      "Running puzzle 82: 2 3 3 8\n",
      "Running puzzle 83: 3 5 5 8\n",
      "Running puzzle 84: 1 1 1 13\n",
      "Running puzzle 85: 2 3 12 12\n",
      "Running puzzle 86: 1 4 7 12\n",
      "Running puzzle 87: 8 8 11 13\n",
      "Running puzzle 88: 1 3 3 4\n",
      "Running puzzle 89: 1 8 8 12\n",
      "Running puzzle 90: 3 7 8 8\n",
      "Running puzzle 91: 7 8 12 12\n",
      "Running puzzle 92: 9 9 11 12\n",
      "Running puzzle 93: 1 2 5 12\n",
      "Running puzzle 94: 2 7 7 8\n",
      "Running puzzle 95: 4 4 11 13\n",
      "Running puzzle 96: 1 1 4 7\n",
      "Running puzzle 97: 1 1 10 13\n",
      "Running puzzle 98: 4 6 6 6\n",
      "Running puzzle 99: 5 5 7 7\n",
      "Running puzzle 100: 4 5 11 12\n"
     ]
    }
   ],
   "execution_count": 19
  },
  {
   "metadata": {},
   "cell_type": "markdown",
   "source": [
    "## Evaluate Performance\n",
    "Now let's Evaluate the Performance"
   ],
   "id": "761f2ecaf55c1881"
  },
  {
   "metadata": {
    "ExecuteTime": {
     "end_time": "2025-07-02T22:39:04.051683Z",
     "start_time": "2025-07-02T22:39:04.040499Z"
    }
   },
   "cell_type": "code",
   "source": [
    "def evaluate_tot_llm_performance(results: List[Dict[str, Any]]) -> Dict[str, Any]:\n",
    "    num_trials = len(results)\n",
    "    num_solved = sum(1 for r in results if r[\"solved\"])\n",
    "    avg_depth = sum(r[\"depth\"] for r in results if r[\"depth\"] >= 0) / max(1, num_trials)\n",
    "    avg_score = sum(r[\"best_score\"] for r in results) / max(1, num_trials)\n",
    "    max_score = max(r[\"best_score\"] for r in results)\n",
    "\n",
    "    return {\n",
    "        \"total_problems\": num_trials,\n",
    "        \"solved_problems\": num_solved,\n",
    "        \"accuracy\": round(num_solved / num_trials, 3),\n",
    "        \"average_depth\": round(avg_depth, 2),\n",
    "        \"average_best_score\": round(avg_score, 3),\n",
    "        \"highest_score\": round(max_score, 3),\n",
    "        # \"example_solutions\": [r[\"equation\"] for r in results if r[\"solved\"]][:3]\n",
    "        \"example_solutions\": [r[\"equation\"] for r in results if r[\"solved\"]]\n",
    "    }\n",
    "\n",
    "\n",
    "metrics = evaluate_tot_llm_performance(results=results)"
   ],
   "id": "451b9d17235486be",
   "outputs": [],
   "execution_count": 20
  }
 ],
 "metadata": {
  "kernelspec": {
   "display_name": "Python [conda env:base] *",
   "language": "python",
   "name": "conda-base-py"
  },
  "language_info": {
   "codemirror_mode": {
    "name": "ipython",
    "version": 2
   },
   "file_extension": ".py",
   "mimetype": "text/x-python",
   "name": "python",
   "nbconvert_exporter": "python",
   "pygments_lexer": "ipython2",
   "version": "2.7.6"
  }
 },
 "nbformat": 4,
 "nbformat_minor": 5
}
